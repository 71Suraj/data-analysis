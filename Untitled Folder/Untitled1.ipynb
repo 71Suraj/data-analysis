{
 "cells": [
  {
   "cell_type": "code",
   "execution_count": 8,
   "id": "11d82134",
   "metadata": {},
   "outputs": [
    {
     "name": "stdout",
     "output_type": "stream",
     "text": [
      "2\n",
      "suraj\n",
      "200\n"
     ]
    }
   ],
   "source": [
    "a=200\n",
    "class pc1:\n",
    "    a=200\n",
    "    a=\"suraj\"\n",
    "    def fun2(self,a,b):\n",
    "        a=2\n",
    "        ca =a+b\n",
    "        return a\n",
    "obj1 = pc1()\n",
    "print(obj1.fun2(20,40))\n",
    "print(obj1.a)\n",
    "print(a)"
   ]
  },
  {
   "cell_type": "code",
   "execution_count": null,
   "id": "2efbbb47",
   "metadata": {},
   "outputs": [],
   "source": []
  }
 ],
 "metadata": {
  "kernelspec": {
   "display_name": "Python 3 (ipykernel)",
   "language": "python",
   "name": "python3"
  },
  "language_info": {
   "codemirror_mode": {
    "name": "ipython",
    "version": 3
   },
   "file_extension": ".py",
   "mimetype": "text/x-python",
   "name": "python",
   "nbconvert_exporter": "python",
   "pygments_lexer": "ipython3",
   "version": "3.9.13"
  }
 },
 "nbformat": 4,
 "nbformat_minor": 5
}
