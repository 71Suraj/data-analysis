{
 "cells": [
  {
   "cell_type": "code",
   "execution_count": 20,
   "id": "8b32b5bb",
   "metadata": {},
   "outputs": [
    {
     "name": "stdout",
     "output_type": "stream",
     "text": [
      "class D run\n",
      "class B function fun2 run\n",
      "class A function fun1 run\n",
      "class C function fun3 run\n",
      "class D function fun4 run\n"
     ]
    }
   ],
   "source": [
    "class A:\n",
    "     def __init__(self):\n",
    "      print(\"class A run\")\n",
    "    \n",
    "     def fun1(self):\n",
    "      print(\"class A function fun1 run\")\n",
    "    \n",
    "class B(A):\n",
    "     def __init__(self):\n",
    "      print(\"class B run\")\n",
    "    \n",
    "     def fun2(self):\n",
    "      print(\"class B function fun2 run\")\n",
    "    \n",
    "class C(B):\n",
    "     def __init__(self):\n",
    "      print(\"class C run\")\n",
    "    \n",
    "     def fun3(self):\n",
    "      print(\"class C function fun3 run\")\n",
    "    \n",
    "class D(C):\n",
    "     def __init__(self):\n",
    "      print(\"class D run\")\n",
    "    \n",
    "     def fun4(self):\n",
    "      print(\"class D function fun4 run\") \n",
    "    \n",
    "obj2=D()\n",
    "obj2.fun2()\n",
    "obj2.fun1()\n",
    "obj2.fun3()\n",
    "obj2.fun4()\n",
    "\n"
   ]
  },
  {
   "cell_type": "code",
   "execution_count": 36,
   "id": "6cb03a8a",
   "metadata": {},
   "outputs": [
    {
     "name": "stdout",
     "output_type": "stream",
     "text": [
      "['physics', 'chemistry', 1997]\n",
      "[3, 4]\n",
      "['c', 'd']\n",
      "3994\n",
      "5\n",
      "Second list length is : 5\n",
      "third list length is : 4\n",
      "First list length is : 4\n",
      "['physics', 'chemistry', 1997]\n",
      "['physics', 'chemistry']\n"
     ]
    }
   ],
   "source": [
    "list1 = ['physics','chemistry',1997,2000];\n",
    "\n",
    "list2 =[1,2,3,4,5];\n",
    "\n",
    "list3 =[\"a\",\"b\",\"c\",\"d\"];\n",
    "\n",
    "print(list1[0:3])\n",
    "print(list2[-3:-1])\n",
    "print(list3[2:4])\n",
    "print(list1[2]*2)\n",
    "\n",
    "print(len(list2))\n",
    "print (\"Second list length is :\",len(list2));\n",
    "print (\"third list length is :\",len(list3));\n",
    "print (\"First list length is :\",len(list1));\n",
    "\n",
    "list1.pop()\n",
    "print (list1)\n",
    "\n",
    "list1.pop(2)\n",
    "print(list1)\n",
    "\n",
    "       \n",
    "            \n",
    "            \n",
    "            \n",
    "            \n",
    "    \n",
    "            "
   ]
  },
  {
   "cell_type": "code",
   "execution_count": 39,
   "id": "2d5d3e68",
   "metadata": {},
   "outputs": [
    {
     "name": "stdout",
     "output_type": "stream",
     "text": [
      "dict['Name']:  zara\n"
     ]
    },
    {
     "ename": "KeyError",
     "evalue": "'age'",
     "output_type": "error",
     "traceback": [
      "\u001b[1;31m---------------------------------------------------------------------------\u001b[0m",
      "\u001b[1;31mKeyError\u001b[0m                                  Traceback (most recent call last)",
      "\u001b[1;32m~\\AppData\\Local\\Temp\\ipykernel_9152\\2788686756.py\u001b[0m in \u001b[0;36m<module>\u001b[1;34m\u001b[0m\n\u001b[0;32m      2\u001b[0m \u001b[1;33m\u001b[0m\u001b[0m\n\u001b[0;32m      3\u001b[0m \u001b[0mprint\u001b[0m \u001b[1;33m(\u001b[0m\u001b[1;34m\"dict['Name']: \"\u001b[0m\u001b[1;33m,\u001b[0m\u001b[0mdict\u001b[0m\u001b[1;33m[\u001b[0m\u001b[1;34m'Name'\u001b[0m\u001b[1;33m]\u001b[0m\u001b[1;33m)\u001b[0m\u001b[1;33m;\u001b[0m\u001b[1;33m\u001b[0m\u001b[1;33m\u001b[0m\u001b[0m\n\u001b[1;32m----> 4\u001b[1;33m \u001b[0mprint\u001b[0m \u001b[1;33m(\u001b[0m\u001b[1;34m\"dict['age']: \"\u001b[0m\u001b[1;33m,\u001b[0m\u001b[0mdict\u001b[0m\u001b[1;33m[\u001b[0m\u001b[1;34m'age'\u001b[0m\u001b[1;33m]\u001b[0m\u001b[1;33m)\u001b[0m\u001b[1;33m;\u001b[0m\u001b[1;33m\u001b[0m\u001b[1;33m\u001b[0m\u001b[0m\n\u001b[0m",
      "\u001b[1;31mKeyError\u001b[0m: 'age'"
     ]
    }
   ],
   "source": [
    "dict={'Name':'zara','age':7, 'class':'first'};\n",
    "\n",
    "print (\"dict['Name']: \",dict['Name']);\n",
    "print (\"dict['age']: \",dict['age']);"
   ]
  },
  {
   "cell_type": "code",
   "execution_count": null,
   "id": "4cc79e2e",
   "metadata": {},
   "outputs": [],
   "source": []
  },
  {
   "cell_type": "code",
   "execution_count": null,
   "id": "a2311b7e",
   "metadata": {},
   "outputs": [],
   "source": []
  },
  {
   "cell_type": "code",
   "execution_count": null,
   "id": "bc5f9f22",
   "metadata": {},
   "outputs": [],
   "source": []
  }
 ],
 "metadata": {
  "kernelspec": {
   "display_name": "Python 3 (ipykernel)",
   "language": "python",
   "name": "python3"
  },
  "language_info": {
   "codemirror_mode": {
    "name": "ipython",
    "version": 3
   },
   "file_extension": ".py",
   "mimetype": "text/x-python",
   "name": "python",
   "nbconvert_exporter": "python",
   "pygments_lexer": "ipython3",
   "version": "3.9.13"
  }
 },
 "nbformat": 4,
 "nbformat_minor": 5
}
