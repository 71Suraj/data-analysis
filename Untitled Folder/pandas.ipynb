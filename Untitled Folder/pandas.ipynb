{
 "cells": [
  {
   "cell_type": "code",
   "execution_count": 3,
   "id": "2e921952",
   "metadata": {},
   "outputs": [
    {
     "name": "stdout",
     "output_type": "stream",
     "text": [
      "numpy data representation \n",
      " ['a' 'b' 'c' 'd'] \n",
      "\n",
      "pandas series representation \n",
      "  0    a\n",
      "1    b\n",
      "2    c\n",
      "3    d\n",
      "dtype: object \n",
      "\n"
     ]
    }
   ],
   "source": [
    "#data representation in numpy and pandas\n",
    "\n",
    "import pandas as pd\n",
    "import numpy as np\n",
    "\n",
    "list1= ['a','b','c','d']\n",
    "data= np.array(list1)\n",
    "s= pd.Series(data)\n",
    "\n",
    "print(\"numpy data representation \\n\",data,\"\\n\")\n",
    "print(\"pandas series representation \\n \", s,\"\\n\")"
   ]
  },
  {
   "cell_type": "code",
   "execution_count": 4,
   "id": "a412d3bc",
   "metadata": {},
   "outputs": [
    {
     "name": "stdout",
     "output_type": "stream",
     "text": [
      "pandas series representation \n",
      "  10    a\n",
      "20    b\n",
      "30    c\n",
      "40    d\n",
      "dtype: object \n",
      "\n"
     ]
    }
   ],
   "source": [
    "#custom index\n",
    "\n",
    "import pandas as pd\n",
    "import numpy as np\n",
    "\n",
    "list1= ['a','b','c','d']\n",
    "data= np.array(list1)\n",
    "s= pd.Series(data,index=[10,20,30,40])\n",
    "\n",
    "print(s)"
   ]
  },
  {
   "cell_type": "code",
   "execution_count": 5,
   "id": "a50e59a8",
   "metadata": {},
   "outputs": [
    {
     "name": "stdout",
     "output_type": "stream",
     "text": [
      "a    0.0\n",
      "b    1.0\n",
      "c    2.0\n",
      "dtype: float64\n"
     ]
    }
   ],
   "source": [
    "#custom index in dictionary\n",
    "\n",
    "import pandas as pd\n",
    "\n",
    "data= {'a': 0. ,'b': 1., 'c':2.}\n",
    "s= pd.Series(data)\n",
    "\n",
    "print(s)"
   ]
  },
  {
   "cell_type": "code",
   "execution_count": 8,
   "id": "e82b7522",
   "metadata": {},
   "outputs": [
    {
     "name": "stdout",
     "output_type": "stream",
     "text": [
      "b    1.0\n",
      "c    2.0\n",
      "d    NaN\n",
      "a    0.0\n",
      "dtype: float64\n"
     ]
    }
   ],
   "source": [
    "#index order is persisted and the missing element is filled with NaN (not a number)\n",
    "\n",
    "import pandas as pd\n",
    "\n",
    "data= {'a': 0. ,'b': 1., 'c':2.}\n",
    "s= pd.Series(data,index=['b','c','d','a'])\n",
    "\n",
    "print(s)"
   ]
  }
 ],
 "metadata": {
  "kernelspec": {
   "display_name": "Python 3 (ipykernel)",
   "language": "python",
   "name": "python3"
  },
  "language_info": {
   "codemirror_mode": {
    "name": "ipython",
    "version": 3
   },
   "file_extension": ".py",
   "mimetype": "text/x-python",
   "name": "python",
   "nbconvert_exporter": "python",
   "pygments_lexer": "ipython3",
   "version": "3.9.13"
  }
 },
 "nbformat": 4,
 "nbformat_minor": 5
}
